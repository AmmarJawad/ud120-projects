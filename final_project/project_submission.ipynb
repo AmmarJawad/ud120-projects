{
 "cells": [
  {
   "cell_type": "markdown",
   "metadata": {},
   "source": [
    "# Importing libraries"
   ]
  },
  {
   "cell_type": "code",
   "execution_count": 36,
   "metadata": {},
   "outputs": [],
   "source": [
    "import sys\n",
    "import pickle\n",
    "sys.path.append(\"../tools/\")\n",
    "\n",
    "from feature_format import featureFormat, targetFeatureSplit\n",
    "from tester import dump_classifier_and_data\n",
    "import missingno as msno\n",
    "import pandas as pd\n",
    "import numpy as np\n",
    "from sklearn import tree\n",
    "from sklearn.cross_validation import train_test_split\n",
    "from sklearn.metrics import confusion_matrix\n",
    "from sklearn.metrics import recall_score\n",
    "from sklearn.metrics import f1_score\n",
    "from sklearn.metrics import precision_score\n",
    "from sklearn.metrics import accuracy_score\n",
    "from sklearn.naive_bayes import GaussianNB\n",
    "from sklearn.ensemble import GradientBoostingClassifier\n",
    "from sklearn.ensemble import RandomForestClassifier\n",
    "from sklearn.svm import SVC\n",
    "from sklearn.preprocessing import MinMaxScaler\n",
    "from sklearn.model_selection import RandomizedSearchCV, GridSearchCV"
   ]
  },
  {
   "cell_type": "markdown",
   "metadata": {},
   "source": [
    "# Features by data type"
   ]
  },
  {
   "cell_type": "code",
   "execution_count": 23,
   "metadata": {},
   "outputs": [],
   "source": [
    "### features_list selects which features to include.\n",
    "features_list = ['poi', 'salary', 'total_stock_value'\n",
    "                ]\n",
    "\n",
    "# Identifying columns with financial values\n",
    "financial_features = ['salary', 'deferral_payments', 'total_payments', 'loan_advances','bonus', \n",
    "                      'restricted_stock_deferred', 'deferred_income', 'total_stock_value', \n",
    "                      'expenses', 'exercised_stock_options', 'other', 'long_term_incentive', \n",
    "                      'restricted_stock', 'director_fees'\n",
    "                     ]\n",
    "\n",
    "# Identfying columns with numerical values\n",
    "features_with_count = ['to_messages', 'from_poi_to_this_person', 'from_messages', \n",
    "                       'from_this_person_to_poi', 'shared_receipt_with_poi'\n",
    "                      ]"
   ]
  },
  {
   "cell_type": "code",
   "execution_count": 24,
   "metadata": {},
   "outputs": [],
   "source": [
    "### Load the dictionary containing the dataset\n",
    "with open(\"final_project_dataset.pkl\", \"r\") as data_file:\n",
    "    data_dict = pickle.load(data_file)\n",
    "\n",
    "# Removing the 'TOTAL' value in data_dict because it is a column sum of salaries and doesn't belong to any single employee.\n",
    "del data_dict['TOTAL']\n",
    "\n",
    "### Store to my_dataset for easy export below.\n",
    "my_dataset = data_dict\n",
    "\n",
    "### Extract features and labels from dataset for local testing\n",
    "data = featureFormat(my_dataset, features_list, sort_keys = True)\n",
    "labels, features = targetFeatureSplit(data)"
   ]
  },
  {
   "cell_type": "markdown",
   "metadata": {},
   "source": [
    "# EDA\n"
   ]
  },
  {
   "cell_type": "code",
   "execution_count": 30,
   "metadata": {},
   "outputs": [
    {
     "name": "stdout",
     "output_type": "stream",
     "text": [
      "Any null-values present in the features chosen? \n",
      "salary               False\n",
      "total_stock_value    False\n",
      "dtype: bool\n"
     ]
    },
    {
     "data": {
      "text/html": [
       "<div>\n",
       "<style scoped>\n",
       "    .dataframe tbody tr th:only-of-type {\n",
       "        vertical-align: middle;\n",
       "    }\n",
       "\n",
       "    .dataframe tbody tr th {\n",
       "        vertical-align: top;\n",
       "    }\n",
       "\n",
       "    .dataframe thead th {\n",
       "        text-align: right;\n",
       "    }\n",
       "</style>\n",
       "<table border=\"1\" class=\"dataframe\">\n",
       "  <thead>\n",
       "    <tr style=\"text-align: right;\">\n",
       "      <th></th>\n",
       "      <th>salary</th>\n",
       "      <th>total_stock_value</th>\n",
       "    </tr>\n",
       "  </thead>\n",
       "  <tbody>\n",
       "    <tr>\n",
       "      <th>0</th>\n",
       "      <td>201955.0</td>\n",
       "      <td>1729541.0</td>\n",
       "    </tr>\n",
       "    <tr>\n",
       "      <th>1</th>\n",
       "      <td>0.0</td>\n",
       "      <td>257817.0</td>\n",
       "    </tr>\n",
       "    <tr>\n",
       "      <th>2</th>\n",
       "      <td>477.0</td>\n",
       "      <td>5243487.0</td>\n",
       "    </tr>\n",
       "    <tr>\n",
       "      <th>3</th>\n",
       "      <td>267102.0</td>\n",
       "      <td>10623258.0</td>\n",
       "    </tr>\n",
       "    <tr>\n",
       "      <th>4</th>\n",
       "      <td>239671.0</td>\n",
       "      <td>63014.0</td>\n",
       "    </tr>\n",
       "  </tbody>\n",
       "</table>\n",
       "</div>"
      ],
      "text/plain": [
       "     salary  total_stock_value\n",
       "0  201955.0          1729541.0\n",
       "1       0.0           257817.0\n",
       "2     477.0          5243487.0\n",
       "3  267102.0         10623258.0\n",
       "4  239671.0            63014.0"
      ]
     },
     "execution_count": 30,
     "metadata": {},
     "output_type": "execute_result"
    }
   ],
   "source": [
    "# Transforming features into a df so that I won't have to remember to transform both features train and test.\n",
    "df_features = pd.DataFrame(features)\n",
    "df_features.columns = ['salary', 'total_stock_value'\n",
    "                      ]\n",
    "print \"Any null-values present in the features chosen? \\n\", df_features.isnull().any()\n",
    "df_features.head()"
   ]
  },
  {
   "cell_type": "code",
   "execution_count": 31,
   "metadata": {},
   "outputs": [],
   "source": [
    "# Splitting dataset into train and test for features and labels\n",
    "features_train, features_test, labels_train, labels_test = \\\n",
    "    train_test_split(df_features, labels, test_size=0.3, random_state=42)"
   ]
  },
  {
   "cell_type": "markdown",
   "metadata": {},
   "source": [
    "# Initialising classifiers using default values"
   ]
  },
  {
   "cell_type": "code",
   "execution_count": 32,
   "metadata": {},
   "outputs": [
    {
     "name": "stdout",
     "output_type": "stream",
     "text": [
      "Accuracy score:  0.923076923077\n",
      "Precision score:  0.333333333333\n",
      "Recall score:  0.5\n"
     ]
    }
   ],
   "source": [
    "##############\n",
    "# GaussianNB #\n",
    "##############\n",
    "\n",
    "clf = GaussianNB()\n",
    "clf.fit(features_train, labels_train)\n",
    "\n",
    "pred = clf.predict(features_test)\n",
    "\n",
    "# Classifier scores\n",
    "precision_score_gnb = precision_score(pred, labels_test)\n",
    "recall_score_gnb = recall_score(pred, labels_test)\n",
    "accuracy_score_gnb = accuracy_score(pred, labels_test)\n",
    "\n",
    "print \"Accuracy score: \", accuracy_score_gnb\n",
    "print \"Precision score: \", precision_score_gnb\n",
    "print \"Recall score: \", recall_score_gnb"
   ]
  },
  {
   "cell_type": "code",
   "execution_count": 33,
   "metadata": {},
   "outputs": [
    {
     "name": "stdout",
     "output_type": "stream",
     "text": [
      "Accuracy score:  0.923076923077\n",
      "Precision score:  0.0\n",
      "Recall score:  0.0\n"
     ]
    }
   ],
   "source": [
    "#######\n",
    "# SVC #\n",
    "#######\n",
    "\n",
    "clf = SVC(random_state=42)\n",
    "\n",
    "# Scaling both train and test features due to salary variance\n",
    "min_max_scaler = MinMaxScaler()\n",
    "features_train_scaled = min_max_scaler.fit_transform(features_train)\n",
    "features_test_scaled = min_max_scaler.fit_transform(features_test)\n",
    "\n",
    "clf.fit(features_train, labels_train)\n",
    "\n",
    "pred = clf.predict(features_test)\n",
    "\n",
    "# Classifier scores\n",
    "precision_score_svc = precision_score(pred, labels_test)\n",
    "recall_score_svc = recall_score(pred, labels_test)\n",
    "accuracy_score_svc = accuracy_score(pred, labels_test)\n",
    "\n",
    "print \"Accuracy score: \", accuracy_score_svc\n",
    "print \"Precision score: \", precision_score_svc\n",
    "print \"Recall score: \", recall_score_svc"
   ]
  },
  {
   "cell_type": "code",
   "execution_count": 34,
   "metadata": {},
   "outputs": [
    {
     "name": "stdout",
     "output_type": "stream",
     "text": [
      "Feature Ranking: \n",
      "  1 feature salary (0.603190174167)\n",
      "  2 feature total_stock_value (0.396809825833)\n",
      "Accuracy score:  0.820512820513\n",
      "Precision score:  0.0\n",
      "Recall score:  0.0\n"
     ]
    }
   ],
   "source": [
    "################\n",
    "# DecisionTree #\n",
    "################\n",
    "\n",
    "# Fitting the model\n",
    "clf = tree.DecisionTreeClassifier(random_state=42)\n",
    "clf.fit(features_train, labels_train)\n",
    "pred = clf.predict(features_test)\n",
    "\n",
    "# Feature Importances to identify which features have a high variance to be included in final model and which to exclude.\n",
    "importances = clf.feature_importances_\n",
    "indices = np.argsort(importances)[::-1]\n",
    "print \"Feature Ranking: \"\n",
    "for i in range(len(importances)):\n",
    "    print \"  {} feature {} ({})\".format(i+1, features_list[i+1], importances[indices[i]])\n",
    "\n",
    "# Classifier scores\n",
    "precision_score_tree = precision_score(pred, labels_test)\n",
    "recall_score_tree = recall_score(pred, labels_test)\n",
    "accuracy_score_tree = accuracy_score(pred, labels_test)\n",
    "\n",
    "print \"Accuracy score: \", accuracy_score_tree\n",
    "print \"Precision score: \", precision_score_tree\n",
    "print \"Recall score: \", recall_score_tree"
   ]
  },
  {
   "cell_type": "code",
   "execution_count": null,
   "metadata": {},
   "outputs": [
    {
     "name": "stdout",
     "output_type": "stream",
     "text": [
      "Fitting 20 folds for each of 128 candidates, totalling 2560 fits\n"
     ]
    },
    {
     "name": "stderr",
     "output_type": "stream",
     "text": [
      "[Parallel(n_jobs=-1)]: Done  17 tasks      | elapsed:    6.5s\n",
      "[Parallel(n_jobs=-1)]: Done 160 tasks      | elapsed:    8.1s\n"
     ]
    }
   ],
   "source": [
    "#################\n",
    "# Random Forest #\n",
    "#################\n",
    "\n",
    "# Fitting the model\n",
    "clf = RandomForestClassifier(random_state=42)\n",
    "# clf.fit(features_train, labels_train)\n",
    "#pred = clf.predict(features_test)\n",
    "\n",
    "# GridsearchCV to find optimal hyper params\n",
    "params = {'n_estimators':np.arange(1, 20, 5),\n",
    "           'max_features':np.arange(1, 20, 5),\n",
    "           'max_depth':np.arange(1, 20, 5),\n",
    "           'min_samples_leaf':np.arange(1, 10, 5)\n",
    "         }\n",
    "\n",
    "clf_rf_grid = GridSearchCV(clf, cv=20, param_grid=params, scoring='precision', verbose=2, n_jobs=-1)\n",
    "clf_rf_grid.fit(features_train, labels_train)\n",
    "\n",
    "print clf_rf_grid.best_params_\n",
    "print clf_rf_grid.best_score_"
   ]
  },
  {
   "cell_type": "code",
   "execution_count": null,
   "metadata": {},
   "outputs": [],
   "source": [
    "# Dumping classifier, my_dataset and features_list as .pkl files to be used in tester.py\n",
    "dump_classifier_and_data(clf, my_dataset, features_list)"
   ]
  },
  {
   "cell_type": "markdown",
   "metadata": {},
   "source": [
    "# Q&A"
   ]
  },
  {
   "cell_type": "markdown",
   "metadata": {},
   "source": [
    "\n",
    "1. Summarize for us the goal of this project and how machine learning is useful in trying to accomplish it. As part of your answer, give some background on the dataset and how it can be used to answer the project question. Were there any outliers in the data when you got it, and how did you handle those?  [relevant rubric items: “data exploration”, “outlier investigation”]\n",
    "\n",
    "2. What features did you end up using in your POI identifier, and what selection process did you use to pick them? Did you have to do any scaling? Why or why not? As part of the assignment, you should attempt to engineer your own feature that does not come ready-made in the dataset -- explain what feature you tried to make, and the rationale behind it. (You do not necessarily have to use it in the final analysis, only engineer and test it.) In your feature selection step, if you used an algorithm like a decision tree, please also give the feature importances of the features that you use, and if you used an automated feature selection function like SelectKBest, please report the feature scores and reasons for your choice of parameter values.  [relevant rubric items: “create new features”, “intelligently select features”, “properly scale features”]\n",
    "\n",
    "3. What algorithm did you end up using? What other one(s) did you try? How did model performance differ between algorithms?  [relevant rubric item: “pick an algorithm”]\n",
    "\n",
    "4. What does it mean to tune the parameters of an algorithm, and what can happen if you don’t do this well?  How did you tune the parameters of your particular algorithm? What parameters did you tune? (Some algorithms do not have parameters that you need to tune -- if this is the case for the one you picked, identify and briefly explain how you would have done it for the model that was not your final choice or a different model that does utilize parameter tuning, e.g. a decision tree classifier).  [relevant rubric items: “discuss parameter tuning”, “tune the algorithm”]\n",
    "\n",
    "5. What is validation, and what’s a classic mistake you can make if you do it wrong? How did you validate your analysis?  [relevant rubric items: “discuss validation”, “validation strategy”]\n",
    "\n",
    "6. Give at least 2 evaluation metrics and your average performance for each of them.  Explain an interpretation of your metrics that says something human-understandable about your algorithm’s performance. [relevant rubric item: “usage of evaluation metrics”]\n"
   ]
  },
  {
   "cell_type": "code",
   "execution_count": null,
   "metadata": {},
   "outputs": [],
   "source": []
  }
 ],
 "metadata": {
  "kernelspec": {
   "display_name": "Python 2",
   "language": "python",
   "name": "python2"
  },
  "language_info": {
   "codemirror_mode": {
    "name": "ipython",
    "version": 2
   },
   "file_extension": ".py",
   "mimetype": "text/x-python",
   "name": "python",
   "nbconvert_exporter": "python",
   "pygments_lexer": "ipython2",
   "version": "2.7.14"
  }
 },
 "nbformat": 4,
 "nbformat_minor": 2
}
